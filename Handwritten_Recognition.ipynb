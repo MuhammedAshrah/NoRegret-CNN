{
  "nbformat": 4,
  "nbformat_minor": 0,
  "metadata": {
    "colab": {
      "provenance": []
    },
    "kernelspec": {
      "name": "python3",
      "display_name": "Python 3"
    },
    "language_info": {
      "name": "python"
    }
  },
  "cells": [
    {
      "cell_type": "markdown",
      "source": [
        "# NOREGRET: A Digit Classifier That Knows When to Say \"I Don't Know\"\n",
        "\n",
        "Author : Muhammed Ashrah\n",
        "\n",
        "\n",
        "\n",
        "Most digit classifiers will confidently assign a label — even when the input is noise, a letter, or something completely unfamiliar.\n",
        "\n",
        "**NOREGRET** takes a smarter approach. It combines:\n",
        "- A simple CNN trained on MNIST\n",
        "- Class-wise Beta modeling for confidence estimation\n",
        "- Prototype-based rejection using embedding distances\n",
        "\n",
        "Instead of blindly predicting, it learns to refuse uncertain inputs using calibrated confidence and representation similarity.\n",
        "\n",
        "This notebook walks through the training, embedding extraction, class prototype generation, and certainty analysis , all toward building a digit classifier that says **\"I know what I don’t know.\"**\n"
      ],
      "metadata": {
        "id": "Zldngv9QAU6U"
      }
    },
    {
      "cell_type": "markdown",
      "source": [
        "Loading the Dataset"
      ],
      "metadata": {
        "id": "of44NnZM3rRw"
      }
    },
    {
      "cell_type": "code",
      "execution_count": 1,
      "metadata": {
        "id": "eDfrmnMgtw5E"
      },
      "outputs": [],
      "source": [
        "import numpy as np\n",
        "import matplotlib.pyplot as plt\n",
        "from sklearn.datasets import fetch_openml\n"
      ]
    },
    {
      "cell_type": "code",
      "source": [
        "X, y = fetch_openml(\"mnist_784\", version=1, return_X_y=True, parser=\"auto\")"
      ],
      "metadata": {
        "id": "AzM2VsNI0q5g"
      },
      "execution_count": 2,
      "outputs": []
    },
    {
      "cell_type": "code",
      "source": [
        "X_train,X_test=X[:60000],X[60000:]\n",
        "y_train, y_test = y[:60000], y[60000:]\n",
        "len(X_train)\n"
      ],
      "metadata": {
        "colab": {
          "base_uri": "https://localhost:8080/"
        },
        "id": "JWu972wY1HmR",
        "outputId": "2d413c3c-4391-4ef4-d38d-6fccb3f4c2f8"
      },
      "execution_count": 3,
      "outputs": [
        {
          "output_type": "execute_result",
          "data": {
            "text/plain": [
              "60000"
            ]
          },
          "metadata": {},
          "execution_count": 3
        }
      ]
    },
    {
      "cell_type": "code",
      "source": [
        "X_train = np.array(X_train) / 255\n",
        "X_test = np.array(X_test) / 255\n",
        "y_train = np.array(y_train, dtype=np.int8)\n",
        "y_test = np.array(y_test, dtype=np.int8)"
      ],
      "metadata": {
        "id": "jimqZbcx1hAY"
      },
      "execution_count": 4,
      "outputs": []
    },
    {
      "cell_type": "code",
      "source": [
        "plt.figure(figsize=(20, 4))\n",
        "for index, (image, label) in enumerate(zip(X_train[0:3], y_train[0:3])):\n",
        "    plt.subplot(1, 3, index + 1)\n",
        "    plt.imshow(np.reshape(image, (28, 28)), cmap=plt.cm.gray)\n",
        "    plt.title(\"Label: %s\\n\" % label, fontsize=20)"
      ],
      "metadata": {
        "colab": {
          "base_uri": "https://localhost:8080/",
          "height": 335
        },
        "id": "Dijv7lqO1s8Q",
        "outputId": "0fff3a4b-84cd-43a2-a3b4-6aedabfea164"
      },
      "execution_count": 5,
      "outputs": [
        {
          "output_type": "display_data",
          "data": {
            "text/plain": [
              "<Figure size 2000x400 with 3 Axes>"
            ],
            "image/png": "[encoded data removed]"
          },
          "metadata": {}
        }
      ]
    },
    {
      "cell_type": "code",
      "source": [
        "import tensorflow as tf\n",
        "from tensorflow.keras import layers, models\n",
        "\n",
        "X_train = X_train.reshape(-1, 28, 28, 1)\n",
        "X_test = X_test.reshape(-1, 28, 28, 1)\n",
        "\n"
      ],
      "metadata": {
        "id": "rElERBtO25mX"
      },
      "execution_count": 8,
      "outputs": []
    },
    {
      "cell_type": "markdown",
      "source": [
        "BetaCal : Beta Calibration"
      ],
      "metadata": {
        "id": "6To_Lupx_UQ8"
      }
    },
    {
      "cell_type": "code",
      "source": [
        "# Default dict here allows us to initlize the keys of the dictionary to 1 by default . So we don’t need to manually check for existence.\n",
        "\n",
        "from collections import defaultdict\n",
        "\n",
        "alpha_count=defaultdict(lambda: 1)\n",
        "beta_count=defaultdict(lambda:1)\n",
        "\n",
        "for true, pred in zip(y_test, pred_labels):\n",
        "    if pred == true:\n",
        "        alpha_count[pred] += 1\n",
        "    else:\n",
        "        beta_count[pred] += 1\n",
        "\n"
      ],
      "metadata": {
        "id": "B3fx5QVGTBAR"
      },
      "execution_count": 14,
      "outputs": []
    },
    {
      "cell_type": "code",
      "source": [
        "# Beta confidence captures both correctness and uncertainty, while accuracy only counts how often you're right\n",
        "\n",
        "# For example , you could have 0.8 accuracy in 800 samples as well as in 10 samples but accuracy cannot differentiate , Hence we will go with Beta to make it easier to be explainability\n",
        "\n",
        "from scipy.stats import beta\n",
        "\n",
        "def beta_certainty(class_k):\n",
        "    a = alpha_count[class_k]\n",
        "    b = beta_count[class_k]\n",
        "    mean = a / (a + b)\n",
        "    var = (a * b) / ((a + b)**2 * (a + b + 1))\n",
        "    entropy = beta.entropy(a, b)\n",
        "    return mean, var, entropy\n"
      ],
      "metadata": {
        "id": "jNOfLTJUVz_G"
      },
      "execution_count": 26,
      "outputs": []
    },
    {
      "cell_type": "markdown",
      "source": [
        "CNN - Model"
      ],
      "metadata": {
        "id": "8x9Tcf8T_gkC"
      }
    },
    {
      "cell_type": "code",
      "source": [
        "from tensorflow.keras import layers, models, Input\n",
        "\n",
        "inputs = Input(shape=(28, 28, 1))\n",
        "\n",
        "x = layers.Conv2D(32, (3, 3), activation='relu')(inputs)\n",
        "x = layers.MaxPooling2D((2, 2))(x)\n",
        "\n",
        "x = layers.Conv2D(64, (3, 3), activation='relu')(x)\n",
        "x = layers.MaxPooling2D((2, 2))(x)\n",
        "\n",
        "x = layers.Flatten()(x)\n",
        "\n",
        "embedding = layers.Dense(64, activation='relu')(x)  # We'll extract this for further usage .\n",
        "\n",
        "outputs = layers.Dense(10, activation='softmax')(embedding)\n",
        "\n",
        "model = models.Model(inputs=inputs, outputs=outputs)\n"
      ],
      "metadata": {
        "id": "xu1D_0yxWYDf"
      },
      "execution_count": 16,
      "outputs": []
    },
    {
      "cell_type": "code",
      "source": [
        "model.compile(optimizer='adam',\n",
        "              loss='sparse_categorical_crossentropy',\n",
        "              metrics=['accuracy'])\n",
        "\n",
        "model.fit(X_train, y_train, epochs=5, batch_size=64, validation_split=0.1)\n"
      ],
      "metadata": {
        "colab": {
          "base_uri": "https://localhost:8080/"
        },
        "id": "QzcQCQvEXTOr",
        "outputId": "03abb99b-05f8-4c14-fe7a-a3ff5eb371f2"
      },
      "execution_count": 17,
      "outputs": [
        {
          "output_type": "stream",
          "name": "stdout",
          "text": [
            "Epoch 1/5\n",
            "\u001b[1m844/844\u001b[0m \u001b[32m━━━━━━━━━━━━━━━━━━━━\u001b[0m\u001b[37m\u001b[0m \u001b[1m41s\u001b[0m 47ms/step - accuracy: 0.8690 - loss: 0.4356 - val_accuracy: 0.9813 - val_loss: 0.0627\n",
            "Epoch 2/5\n",
            "\u001b[1m844/844\u001b[0m \u001b[32m━━━━━━━━━━━━━━━━━━━━\u001b[0m\u001b[37m\u001b[0m \u001b[1m43s\u001b[0m 49ms/step - accuracy: 0.9826 - loss: 0.0568 - val_accuracy: 0.9870 - val_loss: 0.0449\n",
            "Epoch 3/5\n",
            "\u001b[1m844/844\u001b[0m \u001b[32m━━━━━━━━━━━━━━━━━━━━\u001b[0m\u001b[37m\u001b[0m \u001b[1m87s\u001b[0m 56ms/step - accuracy: 0.9872 - loss: 0.0393 - val_accuracy: 0.9912 - val_loss: 0.0372\n",
            "Epoch 4/5\n",
            "\u001b[1m844/844\u001b[0m \u001b[32m━━━━━━━━━━━━━━━━━━━━\u001b[0m\u001b[37m\u001b[0m \u001b[1m74s\u001b[0m 46ms/step - accuracy: 0.9912 - loss: 0.0291 - val_accuracy: 0.9882 - val_loss: 0.0424\n",
            "Epoch 5/5\n",
            "\u001b[1m844/844\u001b[0m \u001b[32m━━━━━━━━━━━━━━━━━━━━\u001b[0m\u001b[37m\u001b[0m \u001b[1m38s\u001b[0m 45ms/step - accuracy: 0.9935 - loss: 0.0212 - val_accuracy: 0.9900 - val_loss: 0.0390\n"
          ]
        },
        {
          "output_type": "execute_result",
          "data": {
            "text/plain": [
              "<keras.src.callbacks.history.History at 0x7e4c221eafd0>"
            ]
          },
          "metadata": {},
          "execution_count": 17
        }
      ]
    },
    {
      "cell_type": "code",
      "source": [
        "# This here is returning the 64-dimensional feature vector of the layer before softmax\n",
        "embedding_model = models.Model(inputs=model.input, outputs=embedding)\n"
      ],
      "metadata": {
        "id": "56EbBkQ1XWB3"
      },
      "execution_count": null,
      "outputs": []
    },
    {
      "cell_type": "code",
      "source": [
        "from tqdm import tqdm   # tqdm helps us to print a progress bar which helps us to know at what iteration the model has reached\n",
        "\n",
        "# Embedding each training image individually is slow with O(n) complexity , and took about an hour on my machine.\n",
        "\n",
        "# You could alternatively approach it through batching to reduce the time but however it may introduce noise due to BatchNorm statistics .Hence here we preferred to go simple with no batching.\n",
        "\n",
        "\n",
        "prototypes = {k: [] for k in range(10)}\n",
        "\n",
        "for xi, yi in tqdm(zip(X_train, y_train), total=len(X_train)):\n",
        "    xi = xi.reshape(1, 28, 28, 1)\n",
        "    emb = embedding_model.predict(xi, verbose=0)[0]\n",
        "    prototypes[yi].append(emb)\n",
        "\n",
        "for k in prototypes:\n",
        "    prototypes[k] = np.mean(prototypes[k], axis=0)\n"
      ],
      "metadata": {
        "colab": {
          "base_uri": "https://localhost:8080/"
        },
        "id": "gdxUQODCXmZQ",
        "outputId": "e2a81648-a3d8-495a-a37f-28473c0fd64b"
      },
      "execution_count": 20,
      "outputs": [
        {
          "output_type": "stream",
          "name": "stderr",
          "text": [
            "100%|██████████| 60000/60000 [1:20:35<00:00, 12.41it/s]\n"
          ]
        }
      ]
    },
    {
      "cell_type": "code",
      "source": [
        "from numpy.linalg import norm\n",
        "\n",
        "def cosine_distance(u, v):\n",
        "    return 1 - np.dot(u, v) / (norm(u) * norm(v))\n"
      ],
      "metadata": {
        "id": "mlGaD_97Xrp5"
      },
      "execution_count": 21,
      "outputs": []
    },
    {
      "cell_type": "code",
      "source": [
        "preds = model.predict(X_test, verbose=0)\n",
        "pred_labels = np.argmax(preds, axis=1)\n",
        "\n",
        "for y_true, y_pred in zip(y_test, pred_labels):\n",
        "    if y_pred == y_true:\n",
        "        alpha_count[y_pred] += 1\n",
        "    else:\n",
        "        beta_count[y_pred] += 1\n"
      ],
      "metadata": {
        "id": "gFLrM8zpXvOL"
      },
      "execution_count": 22,
      "outputs": []
    },
    {
      "cell_type": "code",
      "source": [
        "DIST_THRESHOLD = 0.15\n",
        "\n",
        "from scipy.stats import beta\n",
        "\n",
        "def predict_with_rejection(x):\n",
        "    x = x.reshape(1, 28, 28, 1)\n",
        "    probs = model.predict(x, verbose=0)\n",
        "    pred = np.argmax(probs)\n",
        "\n",
        "    emb = embedding_model.predict(x, verbose=0)[0]\n",
        "    dist = cosine_distance(emb, prototypes[pred])\n",
        "\n",
        "    mean, var, ent = beta_certainty(pred)\n",
        "\n",
        "    print(f\"Class: {pred} | Trust: {mean:.2f} | Var: {var:.4f} | Dist: {dist:.3f}\")\n",
        "\n",
        "\n",
        "    print(f\"🌀 Entropy of Beta: {ent:.4f}\")\n",
        "    print(f\"📏 Distance from Class {pred} Prototype: {dist:.3f}\")\n",
        "\n",
        "    if var > 0.01 or dist > DIST_THRESHOLD:\n",
        "        reason = []\n",
        "        if var > 0.01:\n",
        "            reason.append(\"high uncertainty (Beta var)\")\n",
        "        if dist > DIST_THRESHOLD:\n",
        "            reason.append(\"too far from prototype\")\n",
        "        print(f\"⚠️ REJECTED: {' and '.join(reason)}\")\n",
        "    else:\n",
        "        print(\"✅ ACCEPTED: Looks like a typical example of class\", pred)\n"
      ],
      "metadata": {
        "id": "kK-w5JntX6uK"
      },
      "execution_count": 35,
      "outputs": []
    },
    {
      "cell_type": "code",
      "source": [
        "# Now to test for OOD we will use EMNITST Letters to check whether our rejection model is working\n",
        "\n",
        "import tensorflow_datasets as tfds\n",
        "import tensorflow as tf\n",
        "import numpy as np\n",
        "\n",
        "ds = tfds.load('emnist/letters', split='test', as_supervised=True)\n",
        "\n",
        "X_letters = []\n",
        "\n",
        "for image, label in ds.take(10):\n",
        "    image = tf.cast(image, tf.float32) / 255.0\n",
        "    image = tf.expand_dims(image, -1)\n",
        "    image = tf.image.transpose(image)\n",
        "    X_letters.append(image.numpy())\n",
        "\n",
        "for i, img in enumerate(X_letters):\n",
        "    print(f\"\\nTesting EMNIST letter sample #{i}\")\n",
        "    predict_with_rejection(img)\n"
      ],
      "metadata": {
        "colab": {
          "base_uri": "https://localhost:8080/"
        },
        "id": "1Wbb1NUqstAC",
        "outputId": "4e42d47e-be92-4532-9d32-affcba4b0af9"
      },
      "execution_count": 36,
      "outputs": [
        {
          "output_type": "stream",
          "name": "stdout",
          "text": [
            "\n",
            "Testing EMNIST letter sample #0\n",
            "Class: 4 | Trust: 0.99 | Var: 0.0000 | Dist: 0.292\n",
            "🌀 Entropy of Beta: -4.5815\n",
            "📏 Distance from Class 4 Prototype: 0.292\n",
            "⚠️ REJECTED: too far from prototype\n",
            "\n",
            "Testing EMNIST letter sample #1\n",
            "Class: 4 | Trust: 0.99 | Var: 0.0000 | Dist: 0.375\n",
            "🌀 Entropy of Beta: -4.5815\n",
            "📏 Distance from Class 4 Prototype: 0.375\n",
            "⚠️ REJECTED: too far from prototype\n",
            "\n",
            "Testing EMNIST letter sample #2\n",
            "Class: 9 | Trust: 0.99 | Var: 0.0000 | Dist: 0.108\n",
            "🌀 Entropy of Beta: -4.5995\n",
            "📏 Distance from Class 9 Prototype: 0.108\n",
            "✅ ACCEPTED: Looks like a typical example of class 9\n",
            "\n",
            "Testing EMNIST letter sample #3\n",
            "Class: 4 | Trust: 0.99 | Var: 0.0000 | Dist: 0.262\n",
            "🌀 Entropy of Beta: -4.5815\n",
            "📏 Distance from Class 4 Prototype: 0.262\n",
            "⚠️ REJECTED: too far from prototype\n",
            "\n",
            "Testing EMNIST letter sample #4\n",
            "Class: 7 | Trust: 0.98 | Var: 0.0000 | Dist: 0.371\n",
            "🌀 Entropy of Beta: -4.4735\n",
            "📏 Distance from Class 7 Prototype: 0.371\n",
            "⚠️ REJECTED: too far from prototype\n",
            "\n",
            "Testing EMNIST letter sample #5\n",
            "Class: 9 | Trust: 0.99 | Var: 0.0000 | Dist: 0.243\n",
            "🌀 Entropy of Beta: -4.5995\n",
            "📏 Distance from Class 9 Prototype: 0.243\n",
            "⚠️ REJECTED: too far from prototype\n",
            "\n",
            "Testing EMNIST letter sample #6\n",
            "Class: 5 | Trust: 0.98 | Var: 0.0000 | Dist: 0.430\n",
            "🌀 Entropy of Beta: -4.3629\n",
            "📏 Distance from Class 5 Prototype: 0.430\n",
            "⚠️ REJECTED: too far from prototype\n",
            "\n",
            "Testing EMNIST letter sample #7\n",
            "Class: 0 | Trust: 0.99 | Var: 0.0000 | Dist: 0.143\n",
            "🌀 Entropy of Beta: -4.5987\n",
            "📏 Distance from Class 0 Prototype: 0.143\n",
            "✅ ACCEPTED: Looks like a typical example of class 0\n",
            "\n",
            "Testing EMNIST letter sample #8\n",
            "Class: 9 | Trust: 0.99 | Var: 0.0000 | Dist: 0.314\n",
            "🌀 Entropy of Beta: -4.5995\n",
            "📏 Distance from Class 9 Prototype: 0.314\n",
            "⚠️ REJECTED: too far from prototype\n",
            "\n",
            "Testing EMNIST letter sample #9\n",
            "Class: 7 | Trust: 0.98 | Var: 0.0000 | Dist: 0.399\n",
            "🌀 Entropy of Beta: -4.4735\n",
            "📏 Distance from Class 7 Prototype: 0.399\n",
            "⚠️ REJECTED: too far from prototype\n"
          ]
        }
      ]
    },
    {
      "cell_type": "code",
      "source": [
        "import string\n",
        "from collections import defaultdict\n",
        "\n",
        "# Create a map: 0–25 → A–Z\n",
        "letter_map = dict(zip(range(26), string.ascii_uppercase))\n",
        "\n",
        "accepted = 0\n",
        "rejected = 0\n",
        "rejection_log = []  # for optional later plotting\n",
        "confusion_map = defaultdict(int)\n",
        "\n",
        "ds = tfds.load('emnist/letters', split='test', as_supervised=True)\n",
        "\n",
        "for i, (image, label) in enumerate(ds.take(1000)):\n",
        "    image = tf.cast(image, tf.float32) / 255.0\n",
        "    image = tf.expand_dims(image, -1)\n",
        "    image = tf.image.transpose(image)\n",
        "    x_np = image.numpy()\n",
        "\n",
        "    # True label (1–26) → subtract 1 to get 0–25 → map to A–Z\n",
        "    true_letter = letter_map[int(label.numpy()) - 1]\n",
        "\n",
        "    # Prediction\n",
        "    x = x_np.reshape(1, 28, 28, 1)\n",
        "    probs = model.predict(x, verbose=0)\n",
        "    pred_digit = np.argmax(probs)\n",
        "\n",
        "    emb = embedding_model.predict(x, verbose=0)[0]\n",
        "    dist = cosine_distance(emb, prototypes[pred_digit])\n",
        "    mean, var, _ = beta_certainty(pred_digit)\n",
        "\n",
        "    # Accept/Reject decision\n",
        "    if var > 0.01 or dist > DIST_THRESHOLD:\n",
        "        rejected += 1\n",
        "        decision = \"REJECTED\"\n",
        "    else:\n",
        "        accepted += 1\n",
        "        decision = \"ACCEPTED\"\n",
        "\n",
        "    # Log confusion\n",
        "    confusion_map[(true_letter, pred_digit)] += 1\n",
        "\n",
        "    # Optional: print first few\n",
        "    if i < 10:\n",
        "        print(f\"[{i}] True: {true_letter} → Predicted Digit: {pred_digit} | Dist: {dist:.3f} | {decision}\")\n",
        "\n",
        "print(\"\\n--- SUMMARY ---\")\n",
        "print(f\"✅ Accepted: {accepted}\")\n",
        "print(f\"❌ Rejected: {rejected}\")\n",
        "print(f\"Rejection Rate: {rejected / (accepted + rejected):.2%}\")\n"
      ],
      "metadata": {
        "colab": {
          "base_uri": "https://localhost:8080/"
        },
        "id": "IzjUQAzotXyk",
        "outputId": "689a5b6e-259d-4002-962f-97a76c454207"
      },
      "execution_count": 37,
      "outputs": [
        {
          "output_type": "stream",
          "name": "stdout",
          "text": [
            "[0] True: M → Predicted Digit: 4 | Dist: 0.292 | REJECTED\n",
            "[1] True: H → Predicted Digit: 4 | Dist: 0.375 | REJECTED\n",
            "[2] True: A → Predicted Digit: 9 | Dist: 0.108 | ACCEPTED\n",
            "[3] True: I → Predicted Digit: 4 | Dist: 0.262 | REJECTED\n",
            "[4] True: F → Predicted Digit: 7 | Dist: 0.371 | REJECTED\n",
            "[5] True: A → Predicted Digit: 9 | Dist: 0.243 | REJECTED\n",
            "[6] True: L → Predicted Digit: 5 | Dist: 0.430 | REJECTED\n",
            "[7] True: Q → Predicted Digit: 0 | Dist: 0.143 | ACCEPTED\n",
            "[8] True: B → Predicted Digit: 9 | Dist: 0.314 | REJECTED\n",
            "[9] True: H → Predicted Digit: 7 | Dist: 0.399 | REJECTED\n",
            "\n",
            "--- SUMMARY ---\n",
            "✅ Accepted: 170\n",
            "❌ Rejected: 830\n",
            "Rejection Rate: 83.00%\n"
          ]
        }
      ]
    },
    {
      "cell_type": "markdown",
      "source": [
        "We manage to achieve an impressive **83 % on OOD**"
      ],
      "metadata": {
        "id": "dN7oFbPo_Buz"
      }
    },
    {
      "cell_type": "markdown",
      "source": [
        "Saving the model,alpha,beta and prototype"
      ],
      "metadata": {
        "id": "MzNlUaFSAJ1-"
      }
    },
    {
      "cell_type": "code",
      "source": [
        "model.save(\"model.h5\")"
      ],
      "metadata": {
        "colab": {
          "base_uri": "https://localhost:8080/"
        },
        "id": "rzDmR0imLFDp",
        "outputId": "9f89cb64-e60a-410a-de6a-fa9902beee5e"
      },
      "execution_count": 42,
      "outputs": [
        {
          "output_type": "stream",
          "name": "stderr",
          "text": [
            "WARNING:absl:You are saving your model as an HDF5 file via `model.save()` or `keras.saving.save_model(model)`. This file format is considered legacy. We recommend using instead the native Keras format, e.g. `model.save('my_model.keras')` or `keras.saving.save_model(model, 'my_model.keras')`. \n"
          ]
        }
      ]
    },
    {
      "cell_type": "code",
      "source": [
        "import numpy as np\n",
        "\n",
        "np.save(\"prototypes.npy\", prototypes)\n"
      ],
      "metadata": {
        "id": "hFu1xQ20RSQD"
      },
      "execution_count": 46,
      "outputs": []
    },
    {
      "cell_type": "code",
      "source": [
        "import pickle\n",
        "\n",
        "# Converting defaultdicts to regular dicts before pickling\n",
        "alpha_dict = dict(alpha_count)\n",
        "beta_dict = dict(beta_count)\n",
        "\n",
        "with open(\"alpha_count.pkl\", \"wb\") as f:\n",
        "    pickle.dump(alpha_dict, f)\n",
        "\n",
        "with open(\"beta_count.pkl\", \"wb\") as f:\n",
        "    pickle.dump(beta_dict, f)\n"
      ],
      "metadata": {
        "id": "JxA_PDQGRT8O"
      },
      "execution_count": 48,
      "outputs": []
    }
  ]
}